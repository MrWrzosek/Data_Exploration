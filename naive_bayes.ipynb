{
 "cells": [
  {
   "cell_type": "markdown",
   "id": "42b9d1db",
   "metadata": {},
   "source": [
    "# Imports"
   ]
  },
  {
   "cell_type": "code",
   "execution_count": 230,
   "id": "dca629f6",
   "metadata": {},
   "outputs": [],
   "source": [
    "import string\n",
    "from unidecode import unidecode\n",
    "import numpy as np\n",
    "import pandas as pd\n",
    "import matplotlib.pyplot as plt"
   ]
  },
  {
   "cell_type": "markdown",
   "id": "2cfd1993",
   "metadata": {},
   "source": [
    "# Class implementation"
   ]
  },
  {
   "cell_type": "code",
   "execution_count": 231,
   "id": "91def8e7",
   "metadata": {},
   "outputs": [],
   "source": [
    "class NaiveBayes():\n",
    "    def __init__(self):\n",
    "        self.A_ = None\n",
    "        self.labels_ = None\n",
    "        self.words_negative = None\n",
    "        self.words_positive = None\n",
    "        self.P_negative = None\n",
    "        self.P_positive = None\n",
    "        \n",
    "    def fit(self, data, labels):\n",
    "        self.A_ = np.zeros((np.max(data[:, 0]), np.max(data[:, 1])))\n",
    "        for i in range(data.shape[0]):\n",
    "            document = data[i, 0]\n",
    "            word = data[i, 1]\n",
    "            count = data[i, 2]\n",
    "            self.A_[document-1, word-1] += count\n",
    "        \n",
    "        self.labels_ = labels\n",
    "        \n",
    "        self.P_negative = np.log(self.labels_[self.labels_ == 0].shape[0] / self.labels_.shape[0])\n",
    "        self.P_positive = np.log(self.labels_[self.labels_ == 1].shape[0] / self.labels_.shape[0])\n",
    "        \n",
    "        n_V = np.sum(self.A_)\n",
    "        n_positive = np.sum(clf.A_[clf.labels_ == 1])\n",
    "        n_negative = np.sum(clf.A_[clf.labels_ == 0])\n",
    "        \n",
    "        self.words_negative = np.zeros((self.A_.shape[1]))\n",
    "        self.words_positive = np.zeros((self.A_.shape[1]))\n",
    "        \n",
    "        for i in range(self.A_.shape[1]):\n",
    "            self.words_negative[i] = np.log((np.sum(self.A_[self.labels_ == 0, i]) + 1) / (n_negative + n_V))\n",
    "            self.words_positive[i] = np.log((np.sum(self.A_[self.labels_ == 1, i]) + 1) / (n_positive + n_V))\n",
    "        \n",
    "        \n",
    "    def predict(self, data):\n",
    "        positive = np.full(np.max(data[:, 0]), self.P_positive)\n",
    "        negative = np.full(np.max(data[:, 0]), self.P_negative)\n",
    "        for i in range(data.shape[0]):\n",
    "            try:\n",
    "                positive[data[i, 0]-1] += self.words_positive[data[i, 1]-1]\n",
    "                negative[data[i, 0]-1] += self.words_negative[data[i, 1]-1]\n",
    "            except IndexError:\n",
    "                pass\n",
    "        return positive > negative\n",
    "            "
   ]
  },
  {
   "cell_type": "markdown",
   "id": "bccdb5d1",
   "metadata": {},
   "source": [
    "# Original dataset"
   ]
  },
  {
   "cell_type": "code",
   "execution_count": 232,
   "id": "1d095418",
   "metadata": {},
   "outputs": [
    {
     "data": {
      "image/png": "[encoded data removed]",
      "text/plain": [
       "<Figure size 432x288 with 2 Axes>"
      ]
     },
     "metadata": {
      "needs_background": "light"
     },
     "output_type": "display_data"
    },
    {
     "name": "stdout",
     "output_type": "stream",
     "text": [
      "Accuracy: 0.9769230769230769\n"
     ]
    }
   ],
   "source": [
    "clf = NaiveBayes()\n",
    "clf.fit(data=np.loadtxt(\"train-features.txt\", dtype=\"int\"), labels=np.loadtxt(\"train-labels.txt\", dtype=\"int\"))\n",
    "\n",
    "true_classes = np.loadtxt(\"test-labels.txt\")\n",
    "predicted_classes = clf.predict(data=np.loadtxt(\"test-features.txt\", dtype=\"int\"))\n",
    "\n",
    "from sklearn.metrics import confusion_matrix\n",
    "from mlxtend.plotting import plot_confusion_matrix\n",
    "cm = confusion_matrix(true_classes, predicted_classes)\n",
    "classes = [\"Negative\", \"Positive\"]\n",
    "\n",
    "figure, ax = plot_confusion_matrix(conf_mat = cm,\n",
    "                                   class_names = classes,\n",
    "                                   show_absolute = True,\n",
    "                                   show_normed = False,\n",
    "                                   colorbar = True)\n",
    "\n",
    "plt.show()\n",
    "\n",
    "from sklearn.metrics import accuracy_score\n",
    "print(f\"Accuracy: {accuracy_score(true_classes, predicted_classes)}\")"
   ]
  },
  {
   "cell_type": "markdown",
   "id": "bc538888",
   "metadata": {},
   "source": [
    "# Train_size = 50"
   ]
  },
  {
   "cell_type": "code",
   "execution_count": 233,
   "id": "1a508935",
   "metadata": {},
   "outputs": [
    {
     "data": {
      "image/png": "[encoded data removed]",
      "text/plain": [
       "<Figure size 432x288 with 2 Axes>"
      ]
     },
     "metadata": {
      "needs_background": "light"
     },
     "output_type": "display_data"
    },
    {
     "name": "stdout",
     "output_type": "stream",
     "text": [
      "Accuracy: 0.7576923076923077\n"
     ]
    }
   ],
   "source": [
    "clf = NaiveBayes()\n",
    "clf.fit(data=np.loadtxt(\"train-features-50.txt\", dtype=\"int\"), labels=np.loadtxt(\"train-labels-50.txt\", dtype=\"int\"))\n",
    "\n",
    "true_classes = np.loadtxt(\"test-labels.txt\")\n",
    "predicted_classes = clf.predict(data=np.loadtxt(\"test-features.txt\", dtype=\"int\"))\n",
    "\n",
    "cm = confusion_matrix(true_classes, predicted_classes)\n",
    "classes = [\"Negative\", \"Positive\"]\n",
    "\n",
    "figure, ax = plot_confusion_matrix(conf_mat = cm,\n",
    "                                   class_names = classes,\n",
    "                                   show_absolute = True,\n",
    "                                   show_normed = False,\n",
    "                                   colorbar = True)\n",
    "\n",
    "plt.show()\n",
    "\n",
    "print(f\"Accuracy: {accuracy_score(true_classes, predicted_classes)}\")"
   ]
  },
  {
   "cell_type": "markdown",
   "id": "5663b391",
   "metadata": {},
   "source": [
    "# Train_size = 100"
   ]
  },
  {
   "cell_type": "code",
   "execution_count": 234,
   "id": "fb5e0e4a",
   "metadata": {},
   "outputs": [
    {
     "data": {
      "image/png": "[encoded data removed]",
      "text/plain": [
       "<Figure size 432x288 with 2 Axes>"
      ]
     },
     "metadata": {
      "needs_background": "light"
     },
     "output_type": "display_data"
    },
    {
     "name": "stdout",
     "output_type": "stream",
     "text": [
      "Accuracy: 0.9538461538461539\n"
     ]
    }
   ],
   "source": [
    "clf = NaiveBayes()\n",
    "clf.fit(data=np.loadtxt(\"train-features-100.txt\", dtype=\"int\"), labels=np.loadtxt(\"train-labels-100.txt\", dtype=\"int\"))\n",
    "\n",
    "true_classes = np.loadtxt(\"test-labels.txt\")\n",
    "predicted_classes = clf.predict(data=np.loadtxt(\"test-features.txt\", dtype=\"int\"))\n",
    "\n",
    "cm = confusion_matrix(true_classes, predicted_classes)\n",
    "classes = [\"Negative\", \"Positive\"]\n",
    "\n",
    "figure, ax = plot_confusion_matrix(conf_mat = cm,\n",
    "                                   class_names = classes,\n",
    "                                   show_absolute = True,\n",
    "                                   show_normed = False,\n",
    "                                   colorbar = True)\n",
    "\n",
    "plt.show()\n",
    "\n",
    "print(f\"Accuracy: {accuracy_score(true_classes, predicted_classes)}\")"
   ]
  },
  {
   "cell_type": "markdown",
   "id": "4e3c05a1",
   "metadata": {},
   "source": [
    "# Train_size = 400"
   ]
  },
  {
   "cell_type": "code",
   "execution_count": 235,
   "id": "65c6485e",
   "metadata": {
    "scrolled": true
   },
   "outputs": [
    {
     "data": {
      "image/png": "[encoded data removed]",
      "text/plain": [
       "<Figure size 432x288 with 2 Axes>"
      ]
     },
     "metadata": {
      "needs_background": "light"
     },
     "output_type": "display_data"
    },
    {
     "name": "stdout",
     "output_type": "stream",
     "text": [
      "Accuracy: 0.9692307692307692\n"
     ]
    }
   ],
   "source": [
    "clf = NaiveBayes()\n",
    "clf.fit(data=np.loadtxt(\"train-features-400.txt\", dtype=\"int\"), labels=np.loadtxt(\"train-labels-400.txt\", dtype=\"int\"))\n",
    "\n",
    "true_classes = np.loadtxt(\"test-labels.txt\")\n",
    "predicted_classes = clf.predict(data=np.loadtxt(\"test-features.txt\", dtype=\"int\"))\n",
    "\n",
    "cm = confusion_matrix(true_classes, predicted_classes)\n",
    "classes = [\"Negative\", \"Positive\"]\n",
    "\n",
    "figure, ax = plot_confusion_matrix(conf_mat = cm,\n",
    "                                   class_names = classes,\n",
    "                                   show_absolute = True,\n",
    "                                   show_normed = False,\n",
    "                                   colorbar = True)\n",
    "\n",
    "plt.show()\n",
    "\n",
    "print(f\"Accuracy: {accuracy_score(true_classes, predicted_classes)}\")"
   ]
  },
  {
   "cell_type": "markdown",
   "id": "d0cf61f6",
   "metadata": {},
   "source": [
    "# Proportions - 350 Negatives, 50 Positives"
   ]
  },
  {
   "cell_type": "code",
   "execution_count": 236,
   "id": "1e8444ee",
   "metadata": {},
   "outputs": [
    {
     "data": {
      "image/png": "[encoded data removed]",
      "text/plain": [
       "<Figure size 432x288 with 2 Axes>"
      ]
     },
     "metadata": {
      "needs_background": "light"
     },
     "output_type": "display_data"
    },
    {
     "name": "stdout",
     "output_type": "stream",
     "text": [
      "Accuracy: 0.5961538461538461\n"
     ]
    }
   ],
   "source": [
    "clf = NaiveBayes()\n",
    "data = np.loadtxt(\"train-features.txt\", dtype=\"int\")\n",
    "labels = np.loadtxt(\"train-labels.txt\", dtype=\"int\")\n",
    "\n",
    "data = data[:40910, :]\n",
    "labels = labels[:400]\n",
    "\n",
    "clf.fit(data=data, labels=labels)\n",
    "\n",
    "true_classes = np.loadtxt(\"test-labels.txt\")\n",
    "predicted_classes = clf.predict(data=np.loadtxt(\"test-features.txt\", dtype=\"int\"))\n",
    "\n",
    "cm = confusion_matrix(true_classes, predicted_classes)\n",
    "classes = [\"Negative\", \"Positive\"]\n",
    "\n",
    "figure, ax = plot_confusion_matrix(conf_mat = cm,\n",
    "                                   class_names = classes,\n",
    "                                   show_absolute = True,\n",
    "                                   show_normed = False,\n",
    "                                   colorbar = True)\n",
    "\n",
    "plt.show()\n",
    "\n",
    "print(f\"Accuracy: {accuracy_score(true_classes, predicted_classes)}\")"
   ]
  }
 ],
 "metadata": {
  "kernelspec": {
   "display_name": "Python 3",
   "language": "python",
   "name": "python3"
  },
  "language_info": {
   "codemirror_mode": {
    "name": "ipython",
    "version": 3
   },
   "file_extension": ".py",
   "mimetype": "text/x-python",
   "name": "python",
   "nbconvert_exporter": "python",
   "pygments_lexer": "ipython3",
   "version": "3.9.4"
  },
  "latex_envs": {
   "LaTeX_envs_menu_present": true,
   "autoclose": false,
   "autocomplete": true,
   "bibliofile": "biblio.bib",
   "cite_by": "apalike",
   "current_citInitial": 1,
   "eqLabelWithNumbers": true,
   "eqNumInitial": 1,
   "hotkeys": {
    "equation": "Ctrl-E",
    "itemize": "Ctrl-I"
   },
   "labels_anchors": false,
   "latex_user_defs": false,
   "report_style_numbering": false,
   "user_envs_cfg": false
  },
  "varInspector": {
   "cols": {
    "lenName": 16,
    "lenType": 16,
    "lenVar": 40
   },
   "kernels_config": {
    "python": {
     "delete_cmd_postfix": "",
     "delete_cmd_prefix": "del ",
     "library": "var_list.py",
     "varRefreshCmd": "print(var_dic_list())"
    },
    "r": {
     "delete_cmd_postfix": ") ",
     "delete_cmd_prefix": "rm(",
     "library": "var_list.r",
     "varRefreshCmd": "cat(var_dic_list()) "
    }
   },
   "types_to_exclude": [
    "module",
    "function",
    "builtin_function_or_method",
    "instance",
    "_Feature"
   ],
   "window_display": false
  }
 },
 "nbformat": 4,
 "nbformat_minor": 5
}
