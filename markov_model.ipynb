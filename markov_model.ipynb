{
 "cells": [
  {
   "cell_type": "code",
   "execution_count": 1,
   "metadata": {},
   "outputs": [
    {
     "name": "stderr",
     "output_type": "stream",
     "text": [
      "[nltk_data] Downloading package punkt to\n",
      "[nltk_data]     C:\\Users\\GL503\\AppData\\Roaming\\nltk_data...\n",
      "[nltk_data]   Package punkt is already up-to-date!\n"
     ]
    }
   ],
   "source": [
    "from string import ascii_lowercase\n",
    "import itertools\n",
    "import numpy as np\n",
    "import nltk\n",
    "nltk.download('punkt')\n",
    "from sklearn.model_selection import train_test_split\n",
    "from unidecode import unidecode\n",
    "import sys\n",
    "np.set_printoptions(threshold=1000)\n",
    "import re\n",
    "import matplotlib.pyplot as plt\n",
    "import itertools"
   ]
  },
  {
   "cell_type": "code",
   "execution_count": 2,
   "metadata": {},
   "outputs": [],
   "source": [
    "class MarkovModel():\n",
    "    \n",
    "    def __init__(self, n_symbols):\n",
    "        self.dict_of_symbols = None\n",
    "        alphabets = ascii_lowercase\n",
    "        self.n_symbols = n_symbols\n",
    "        if self.n_symbols == 1:\n",
    "            self.dict_of_symbols = {letter: index for index, letter in enumerate(alphabets)}\n",
    "        else:\n",
    "            combinations = itertools.product(alphabets, repeat = self.n_symbols)\n",
    "            self.dict_of_symbols = {letter[0]+letter[1]: index for index, letter in enumerate(combinations)}\n",
    "        self.A = np.zeros((len(self.dict_of_symbols), len(self.dict_of_symbols)), dtype=\"double\")\n",
    "        self.PI = np.zeros(len(self.dict_of_symbols), dtype=\"double\")\n",
    "        \n",
    "    def estimatePI(self, train):\n",
    "        for sentence in train:\n",
    "            sentence = re.sub(\"[^A-Za-z]\", \"\", sentence)\n",
    "            if self.n_symbols == 1:\n",
    "                self.PI[self.dict_of_symbols[sentence[0]]] += 1\n",
    "            else:\n",
    "                self.PI[self.dict_of_symbols[sentence[0]+sentence[1]]] += 1\n",
    "\n",
    "        self.PI = self.PI + 1\n",
    "        self.PI = np.log(self.PI/np.sum(self.PI))\n",
    "    \n",
    "    def fit(self, train):\n",
    "        if self.n_symbols == 1:\n",
    "            for i in range(len(train)-1):\n",
    "                a, b = train[i], train[i+1]\n",
    "                self.A[self.dict_of_symbols[a], self.dict_of_symbols[b]] += 1\n",
    "        else:\n",
    "            for i in range(0, len(train)-3, 2):\n",
    "                a, b = train[i] + train[i+1], train[i+2] + train[i+3]\n",
    "                self.A[self.dict_of_symbols[a], self.dict_of_symbols[b]] += 1\n",
    "\n",
    "        self.A = self.A + 1\n",
    "        self.A = np.log(self.A/np.sum(self.A, axis=1, keepdims=True))\n",
    "        \n",
    "    def calculateIndex(self, sentence):\n",
    "        if self.n_symbols == 1:\n",
    "            output = self.PI[self.dict_of_symbols[sentence[0]]]\n",
    "            for i in range(len(sentence)-1):\n",
    "                a, b = sentence[i], sentence[i+1]\n",
    "                output += self.A[self.dict_of_symbols[a], self.dict_of_symbols[b]]\n",
    "            return output\n",
    "        else:\n",
    "            output = self.PI[self.dict_of_symbols[sentence[0] + sentence[1]]]\n",
    "            for i in range(0, len(sentence)-3, 2):\n",
    "                a, b = sentence[i] + sentence[i+1], sentence[i+2] + sentence[i+3]\n",
    "                output += self.A[self.dict_of_symbols[a], self.dict_of_symbols[b]]\n",
    "            return output"
   ]
  },
  {
   "cell_type": "code",
   "execution_count": 3,
   "metadata": {},
   "outputs": [],
   "source": [
    "with open('Morawiecki.txt', 'r', encoding=\"utf8\") as file:\n",
    "    morawiecki = file.read().replace(\"\\n\", \" \")\n",
    "    \n",
    "with open('Kaczyński.txt', 'r', encoding=\"utf8\") as file:\n",
    "    kaczynski = file.read().replace(\"\\n\", \" \")\n",
    "    \n",
    "with open('Szydlo.txt', 'r', encoding=\"utf8\") as file:\n",
    "    szydlo = file.read().replace(\"\\n\", \" \")\n",
    "    \n",
    "with open('Tusk.txt', 'r', encoding=\"utf8\") as file:\n",
    "    tusk = file.read().replace(\"\\n\", \" \")\n",
    "    \n",
    "morawiecki = unidecode(morawiecki).lower()\n",
    "kaczynski = unidecode(kaczynski).lower()\n",
    "szydlo = unidecode(szydlo).lower()\n",
    "tusk = unidecode(tusk).lower()"
   ]
  },
  {
   "cell_type": "markdown",
   "metadata": {},
   "source": [
    "# 1 character"
   ]
  },
  {
   "cell_type": "code",
   "execution_count": 4,
   "metadata": {},
   "outputs": [],
   "source": [
    "model_morawiecki = MarkovModel(1)\n",
    "model_kaczynski = MarkovModel(1)\n",
    "model_szydlo = MarkovModel(1)\n",
    "model_tusk = MarkovModel(1)\n",
    "\n",
    "sentences = nltk.tokenize.sent_tokenize(morawiecki)\n",
    "train, test = train_test_split(sentences, test_size=0.3, random_state=41, shuffle=True)\n",
    "model_morawiecki.estimatePI(train)\n",
    "\n",
    "sentences = nltk.tokenize.sent_tokenize(kaczynski)\n",
    "train, test = train_test_split(sentences, test_size=0.3, random_state=41, shuffle=True)\n",
    "model_kaczynski.estimatePI(train)\n",
    "\n",
    "sentences = nltk.tokenize.sent_tokenize(szydlo)\n",
    "train, test = train_test_split(sentences, test_size=0.3, random_state=41, shuffle=True)\n",
    "model_szydlo.estimatePI(train)\n",
    "\n",
    "sentences = nltk.tokenize.sent_tokenize(tusk)\n",
    "train, test = train_test_split(sentences, test_size=0.3, random_state=41, shuffle=True)\n",
    "model_tusk.estimatePI(train)\n",
    "\n",
    "text=re.sub(\"[^A-Za-z]\",\"\",morawiecki)\n",
    "train, test = train_test_split(text, test_size=0.3, random_state=41, shuffle=False)\n",
    "model_morawiecki.fit(train)\n",
    "\n",
    "text=re.sub(\"[^A-Za-z]\",\"\",kaczynski)\n",
    "train, test = train_test_split(text, test_size=0.3, random_state=41, shuffle=False)\n",
    "model_kaczynski.fit(train)\n",
    "\n",
    "text=re.sub(\"[^A-Za-z]\",\"\",szydlo)\n",
    "train, test = train_test_split(text, test_size=0.3, random_state=41, shuffle=False)\n",
    "model_szydlo.fit(train)\n",
    "\n",
    "text=re.sub(\"[^A-Za-z]\",\"\",tusk)\n",
    "train, test = train_test_split(text, test_size=0.3, random_state=41, shuffle=False)\n",
    "model_tusk.fit(train)"
   ]
  },
  {
   "cell_type": "code",
   "execution_count": 5,
   "metadata": {},
   "outputs": [],
   "source": [
    "target_names = [morawiecki, kaczynski, szydlo, tusk]\n",
    "Y_pred = []\n",
    "Y_true = []\n",
    "for index, text in enumerate(target_names):  \n",
    "    sentences = nltk.tokenize.sent_tokenize(text)\n",
    "    train, test = train_test_split(sentences, test_size=0.3, random_state=41, shuffle=True)\n",
    "    for sentence in test:\n",
    "        sentence = re.sub(\"[^A-Za-z]\", \"\", sentence)\n",
    "        Y_true.append(index)\n",
    "        Y_pred.append(np.argmax([model_morawiecki.calculateIndex(sentence), model_kaczynski.calculateIndex(sentence), model_szydlo.calculateIndex(sentence), model_tusk.calculateIndex(sentence)]))\n",
    "        \n",
    "        "
   ]
  },
  {
   "cell_type": "code",
   "execution_count": 6,
   "metadata": {
    "scrolled": false
   },
   "outputs": [
    {
     "data": {
      "image/png": "[encoded data removed]",
      "text/plain": [
       "<Figure size 432x288 with 2 Axes>"
      ]
     },
     "metadata": {
      "needs_background": "light"
     },
     "output_type": "display_data"
    }
   ],
   "source": [
    "from sklearn.metrics import confusion_matrix\n",
    "from mlxtend.plotting import plot_confusion_matrix\n",
    "cm = confusion_matrix(Y_true, Y_pred, normalize=\"true\")\n",
    "classes = [\"morawiecki\", \"kaczynski\", \"szydlo\", \"tusk\"]\n",
    "\n",
    "figure, ax = plot_confusion_matrix(conf_mat = cm,\n",
    "                                   class_names = classes,\n",
    "                                   show_absolute = False,\n",
    "                                   show_normed = True,\n",
    "                                   colorbar = True)\n",
    "\n",
    "plt.show()"
   ]
  },
  {
   "cell_type": "markdown",
   "metadata": {},
   "source": [
    "# 2 characters"
   ]
  },
  {
   "cell_type": "code",
   "execution_count": 7,
   "metadata": {},
   "outputs": [],
   "source": [
    "model_morawiecki = MarkovModel(2)\n",
    "model_kaczynski = MarkovModel(2)\n",
    "model_szydlo = MarkovModel(2)\n",
    "model_tusk = MarkovModel(2)\n",
    "\n",
    "sentences = nltk.tokenize.sent_tokenize(morawiecki)\n",
    "train, test = train_test_split(sentences, test_size=0.3, random_state=41, shuffle=True)\n",
    "model_morawiecki.estimatePI(train)\n",
    "\n",
    "sentences = nltk.tokenize.sent_tokenize(kaczynski)\n",
    "train, test = train_test_split(sentences, test_size=0.3, random_state=41, shuffle=True)\n",
    "model_kaczynski.estimatePI(train)\n",
    "\n",
    "sentences = nltk.tokenize.sent_tokenize(szydlo)\n",
    "train, test = train_test_split(sentences, test_size=0.3, random_state=41, shuffle=True)\n",
    "model_szydlo.estimatePI(train)\n",
    "\n",
    "sentences = nltk.tokenize.sent_tokenize(tusk)\n",
    "train, test = train_test_split(sentences, test_size=0.3, random_state=41, shuffle=True)\n",
    "model_tusk.estimatePI(train)\n",
    "\n",
    "text=re.sub(\"[^A-Za-z]\",\"\",morawiecki)\n",
    "train, test = train_test_split(text, test_size=0.3, random_state=41, shuffle=False)\n",
    "model_morawiecki.fit(train)\n",
    "\n",
    "text=re.sub(\"[^A-Za-z]\",\"\",kaczynski)\n",
    "train, test = train_test_split(text, test_size=0.3, random_state=41, shuffle=False)\n",
    "model_kaczynski.fit(train)\n",
    "\n",
    "text=re.sub(\"[^A-Za-z]\",\"\",szydlo)\n",
    "train, test = train_test_split(text, test_size=0.3, random_state=41, shuffle=False)\n",
    "model_szydlo.fit(train)\n",
    "\n",
    "text=re.sub(\"[^A-Za-z]\",\"\",tusk)\n",
    "train, test = train_test_split(text, test_size=0.3, random_state=41, shuffle=False)\n",
    "model_tusk.fit(train)"
   ]
  },
  {
   "cell_type": "code",
   "execution_count": 8,
   "metadata": {},
   "outputs": [],
   "source": [
    "target_names = [morawiecki, kaczynski, szydlo, tusk]\n",
    "Y_pred = []\n",
    "Y_true = []\n",
    "for index, text in enumerate(target_names):  \n",
    "    sentences = nltk.tokenize.sent_tokenize(text)\n",
    "    train, test = train_test_split(sentences, test_size=0.3, random_state=41, shuffle=True)\n",
    "    for sentence in test:\n",
    "        sentence = re.sub(\"[^A-Za-z]\", \"\", sentence)\n",
    "        Y_true.append(index)\n",
    "        Y_pred.append(np.argmax([model_morawiecki.calculateIndex(sentence), model_kaczynski.calculateIndex(sentence), model_szydlo.calculateIndex(sentence), model_tusk.calculateIndex(sentence)]))\n",
    "        \n",
    "        "
   ]
  },
  {
   "cell_type": "code",
   "execution_count": 9,
   "metadata": {
    "scrolled": false
   },
   "outputs": [
    {
     "data": {
      "image/png": "[encoded data removed]",
      "text/plain": [
       "<Figure size 432x288 with 2 Axes>"
      ]
     },
     "metadata": {
      "needs_background": "light"
     },
     "output_type": "display_data"
    }
   ],
   "source": [
    "from sklearn.metrics import confusion_matrix\n",
    "from mlxtend.plotting import plot_confusion_matrix\n",
    "cm = confusion_matrix(Y_true, Y_pred, normalize=\"true\")\n",
    "classes = [\"morawiecki\", \"kaczynski\", \"szydlo\", \"tusk\"]\n",
    "\n",
    "figure, ax = plot_confusion_matrix(conf_mat = cm,\n",
    "                                   class_names = classes,\n",
    "                                   show_absolute = False,\n",
    "                                   show_normed = True,\n",
    "                                   colorbar = True)\n",
    "\n",
    "plt.show()"
   ]
  },
  {
   "cell_type": "markdown",
   "metadata": {},
   "source": [
    "# 1 character - additional tests"
   ]
  },
  {
   "cell_type": "code",
   "execution_count": 10,
   "metadata": {},
   "outputs": [],
   "source": [
    "model_morawiecki = MarkovModel(1)\n",
    "model_kaczynski = MarkovModel(1)\n",
    "model_szydlo = MarkovModel(1)\n",
    "model_tusk = MarkovModel(1)\n",
    "\n",
    "sentences = nltk.tokenize.sent_tokenize(morawiecki)\n",
    "model_morawiecki.estimatePI(sentences)\n",
    "\n",
    "sentences = nltk.tokenize.sent_tokenize(kaczynski)\n",
    "model_kaczynski.estimatePI(sentences)\n",
    "\n",
    "sentences = nltk.tokenize.sent_tokenize(szydlo)\n",
    "model_szydlo.estimatePI(sentences)\n",
    "\n",
    "sentences = nltk.tokenize.sent_tokenize(tusk)\n",
    "model_tusk.estimatePI(sentences)\n",
    "\n",
    "text=re.sub(\"[^A-Za-z]\",\"\",morawiecki)\n",
    "model_morawiecki.fit(text)\n",
    "\n",
    "text=re.sub(\"[^A-Za-z]\",\"\",kaczynski)\n",
    "model_kaczynski.fit(text)\n",
    "\n",
    "text=re.sub(\"[^A-Za-z]\",\"\",szydlo)\n",
    "model_szydlo.fit(text)\n",
    "\n",
    "text=re.sub(\"[^A-Za-z]\",\"\",tusk)\n",
    "model_tusk.fit(text)"
   ]
  },
  {
   "cell_type": "code",
   "execution_count": 11,
   "metadata": {
    "scrolled": true
   },
   "outputs": [
    {
     "name": "stderr",
     "output_type": "stream",
     "text": [
      "c:\\users\\gl503\\appdata\\local\\programs\\python\\python39\\lib\\site-packages\\mlxtend\\plotting\\plot_confusion_matrix.py:94: RuntimeWarning: invalid value encountered in true_divide\n",
      "  normed_conf_mat = conf_mat.astype('float') / total_samples\n"
     ]
    },
    {
     "data": {
      "image/png": "[encoded data removed]",
      "text/plain": [
       "<Figure size 432x288 with 2 Axes>"
      ]
     },
     "metadata": {
      "needs_background": "light"
     },
     "output_type": "display_data"
    }
   ],
   "source": [
    "    \n",
    "with open('Tusk2.txt', 'r', encoding=\"utf8\") as file:\n",
    "    tusk2 = file.read().replace(\"\\n\", \" \")\n",
    "tusk2 = unidecode(tusk2).lower()\n",
    "\n",
    "Y_pred = []\n",
    "Y_true = []\n",
    "\n",
    "sentences = nltk.tokenize.sent_tokenize(tusk2)\n",
    "for sentence in sentences:\n",
    "    sentence = re.sub(\"[^A-Za-z]\", \"\", sentence)\n",
    "    Y_true.append(3)\n",
    "    Y_pred.append(np.argmax([model_morawiecki.calculateIndex(sentence), model_kaczynski.calculateIndex(sentence), model_szydlo.calculateIndex(sentence), model_tusk.calculateIndex(sentence)]))\n",
    "    \n",
    "cm = confusion_matrix(Y_true, Y_pred, normalize=\"true\")\n",
    "classes = [\"morawiecki\", \"kaczynski\", \"szydlo\", \"tusk\"]\n",
    "\n",
    "figure, ax = plot_confusion_matrix(conf_mat = cm,\n",
    "                                   class_names = classes,\n",
    "                                   show_absolute = False,\n",
    "                                   show_normed = True,\n",
    "                                   colorbar = True,\n",
    "                                   fontcolor_threshold=0.2)\n",
    "\n",
    "plt.show()"
   ]
  },
  {
   "cell_type": "markdown",
   "metadata": {},
   "source": [
    "# 2 characters - additional tests"
   ]
  },
  {
   "cell_type": "code",
   "execution_count": 12,
   "metadata": {},
   "outputs": [],
   "source": [
    "model_morawiecki = MarkovModel(2)\n",
    "model_kaczynski = MarkovModel(2)\n",
    "model_szydlo = MarkovModel(2)\n",
    "model_tusk = MarkovModel(2)\n",
    "\n",
    "sentences = nltk.tokenize.sent_tokenize(morawiecki)\n",
    "model_morawiecki.estimatePI(sentences)\n",
    "\n",
    "sentences = nltk.tokenize.sent_tokenize(kaczynski)\n",
    "model_kaczynski.estimatePI(sentences)\n",
    "\n",
    "sentences = nltk.tokenize.sent_tokenize(szydlo)\n",
    "model_szydlo.estimatePI(sentences)\n",
    "\n",
    "sentences = nltk.tokenize.sent_tokenize(tusk)\n",
    "model_tusk.estimatePI(sentences)\n",
    "\n",
    "text=re.sub(\"[^A-Za-z]\",\"\",morawiecki)\n",
    "model_morawiecki.fit(text)\n",
    "\n",
    "text=re.sub(\"[^A-Za-z]\",\"\",kaczynski)\n",
    "model_kaczynski.fit(text)\n",
    "\n",
    "text=re.sub(\"[^A-Za-z]\",\"\",szydlo)\n",
    "model_szydlo.fit(text)\n",
    "\n",
    "text=re.sub(\"[^A-Za-z]\",\"\",tusk)\n",
    "model_tusk.fit(text)"
   ]
  },
  {
   "cell_type": "code",
   "execution_count": 13,
   "metadata": {
    "scrolled": true
   },
   "outputs": [
    {
     "name": "stderr",
     "output_type": "stream",
     "text": [
      "c:\\users\\gl503\\appdata\\local\\programs\\python\\python39\\lib\\site-packages\\mlxtend\\plotting\\plot_confusion_matrix.py:94: RuntimeWarning: invalid value encountered in true_divide\n",
      "  normed_conf_mat = conf_mat.astype('float') / total_samples\n"
     ]
    },
    {
     "data": {
      "image/png": "[encoded data removed]",
      "text/plain": [
       "<Figure size 432x288 with 2 Axes>"
      ]
     },
     "metadata": {
      "needs_background": "light"
     },
     "output_type": "display_data"
    }
   ],
   "source": [
    "    \n",
    "with open('Tusk2.txt', 'r', encoding=\"utf8\") as file:\n",
    "    tusk2 = file.read().replace(\"\\n\", \" \")\n",
    "tusk2 = unidecode(tusk2).lower()\n",
    "\n",
    "Y_pred = []\n",
    "Y_true = []\n",
    "\n",
    "sentences = nltk.tokenize.sent_tokenize(tusk2)\n",
    "for sentence in sentences:\n",
    "    sentence = re.sub(\"[^A-Za-z]\", \"\", sentence)\n",
    "    Y_true.append(3)\n",
    "    Y_pred.append(np.argmax([model_morawiecki.calculateIndex(sentence), model_kaczynski.calculateIndex(sentence), model_szydlo.calculateIndex(sentence), model_tusk.calculateIndex(sentence)]))\n",
    "    \n",
    "cm = confusion_matrix(Y_true, Y_pred, normalize=\"true\")\n",
    "classes = [\"morawiecki\", \"kaczynski\", \"szydlo\", \"tusk\"]\n",
    "\n",
    "figure, ax = plot_confusion_matrix(conf_mat = cm,\n",
    "                                   class_names = classes,\n",
    "                                   show_absolute = False,\n",
    "                                   show_normed = True,\n",
    "                                   colorbar = True,\n",
    "                                   fontcolor_threshold=0.2)\n",
    "\n",
    "plt.show()"
   ]
  }
 ],
 "metadata": {
  "kernelspec": {
   "display_name": "Python 3",
   "language": "python",
   "name": "python3"
  },
  "language_info": {
   "codemirror_mode": {
    "name": "ipython",
    "version": 3
   },
   "file_extension": ".py",
   "mimetype": "text/x-python",
   "name": "python",
   "nbconvert_exporter": "python",
   "pygments_lexer": "ipython3",
   "version": "3.9.4"
  },
  "latex_envs": {
   "LaTeX_envs_menu_present": true,
   "autoclose": false,
   "autocomplete": true,
   "bibliofile": "biblio.bib",
   "cite_by": "apalike",
   "current_citInitial": 1,
   "eqLabelWithNumbers": true,
   "eqNumInitial": 1,
   "hotkeys": {
    "equation": "Ctrl-E",
    "itemize": "Ctrl-I"
   },
   "labels_anchors": false,
   "latex_user_defs": false,
   "report_style_numbering": false,
   "user_envs_cfg": false
  },
  "varInspector": {
   "cols": {
    "lenName": 16,
    "lenType": 16,
    "lenVar": 40
   },
   "kernels_config": {
    "python": {
     "delete_cmd_postfix": "",
     "delete_cmd_prefix": "del ",
     "library": "var_list.py",
     "varRefreshCmd": "print(var_dic_list())"
    },
    "r": {
     "delete_cmd_postfix": ") ",
     "delete_cmd_prefix": "rm(",
     "library": "var_list.r",
     "varRefreshCmd": "cat(var_dic_list()) "
    }
   },
   "types_to_exclude": [
    "module",
    "function",
    "builtin_function_or_method",
    "instance",
    "_Feature"
   ],
   "window_display": false
  }
 },
 "nbformat": 4,
 "nbformat_minor": 2
}
